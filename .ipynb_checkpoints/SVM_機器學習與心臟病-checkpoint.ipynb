{
 "cells": [
  {
   "cell_type": "markdown",
   "metadata": {},
   "source": [
    "## 透過這次訓練所學到的東西"
   ]
  },
  {
   "cell_type": "markdown",
   "metadata": {},
   "source": [
    "#### 特殊的方法:\n",
    "#### 先用KNN預測labels為0或1 (沒病,有病)\n",
    "#### 再用KNN的predict_proba預測兩者的機率 (0.8,0.2)\n",
    "#### submission有病的機率(0.2)"
   ]
  },
  {
   "cell_type": "code",
   "execution_count": 1,
   "metadata": {},
   "outputs": [],
   "source": [
    "# 正規化對準確度是否有影響?\n",
    "\n",
    "# Normalization(正規化)相關係數 和 準確率都沒變\n",
    "\n",
    "# 第一次 ['thal']欄位字串轉為int就直接上傳 4.60081"
   ]
  },
  {
   "cell_type": "markdown",
   "metadata": {},
   "source": [
    "## 引入套件"
   ]
  },
  {
   "cell_type": "code",
   "execution_count": 1,
   "metadata": {},
   "outputs": [],
   "source": [
    "import pandas as pd"
   ]
  },
  {
   "cell_type": "code",
   "execution_count": 2,
   "metadata": {},
   "outputs": [],
   "source": [
    "# 載入資料\n",
    "train_values = pd.read_csv(\"train_values.csv\") \n",
    "train_labels = pd.read_csv(\"train_labels.csv\")"
   ]
  },
  {
   "cell_type": "code",
   "execution_count": 3,
   "metadata": {},
   "outputs": [
    {
     "name": "stdout",
     "output_type": "stream",
     "text": [
      "(180, 14)\n"
     ]
    },
    {
     "data": {
      "text/html": [
       "<div>\n",
       "<style scoped>\n",
       "    .dataframe tbody tr th:only-of-type {\n",
       "        vertical-align: middle;\n",
       "    }\n",
       "\n",
       "    .dataframe tbody tr th {\n",
       "        vertical-align: top;\n",
       "    }\n",
       "\n",
       "    .dataframe thead th {\n",
       "        text-align: right;\n",
       "    }\n",
       "</style>\n",
       "<table border=\"1\" class=\"dataframe\">\n",
       "  <thead>\n",
       "    <tr style=\"text-align: right;\">\n",
       "      <th></th>\n",
       "      <th>patient_id</th>\n",
       "      <th>slope_of_peak_exercise_st_segment</th>\n",
       "      <th>thal</th>\n",
       "      <th>resting_blood_pressure</th>\n",
       "      <th>chest_pain_type</th>\n",
       "      <th>num_major_vessels</th>\n",
       "      <th>fasting_blood_sugar_gt_120_mg_per_dl</th>\n",
       "      <th>resting_ekg_results</th>\n",
       "      <th>serum_cholesterol_mg_per_dl</th>\n",
       "      <th>oldpeak_eq_st_depression</th>\n",
       "      <th>sex</th>\n",
       "      <th>age</th>\n",
       "      <th>max_heart_rate_achieved</th>\n",
       "      <th>exercise_induced_angina</th>\n",
       "    </tr>\n",
       "  </thead>\n",
       "  <tbody>\n",
       "    <tr>\n",
       "      <th>0</th>\n",
       "      <td>0z64un</td>\n",
       "      <td>1</td>\n",
       "      <td>normal</td>\n",
       "      <td>128</td>\n",
       "      <td>2</td>\n",
       "      <td>0</td>\n",
       "      <td>0</td>\n",
       "      <td>2</td>\n",
       "      <td>308</td>\n",
       "      <td>0.0</td>\n",
       "      <td>1</td>\n",
       "      <td>45</td>\n",
       "      <td>170</td>\n",
       "      <td>0</td>\n",
       "    </tr>\n",
       "    <tr>\n",
       "      <th>1</th>\n",
       "      <td>ryoo3j</td>\n",
       "      <td>2</td>\n",
       "      <td>normal</td>\n",
       "      <td>110</td>\n",
       "      <td>3</td>\n",
       "      <td>0</td>\n",
       "      <td>0</td>\n",
       "      <td>0</td>\n",
       "      <td>214</td>\n",
       "      <td>1.6</td>\n",
       "      <td>0</td>\n",
       "      <td>54</td>\n",
       "      <td>158</td>\n",
       "      <td>0</td>\n",
       "    </tr>\n",
       "    <tr>\n",
       "      <th>2</th>\n",
       "      <td>yt1s1x</td>\n",
       "      <td>1</td>\n",
       "      <td>normal</td>\n",
       "      <td>125</td>\n",
       "      <td>4</td>\n",
       "      <td>3</td>\n",
       "      <td>0</td>\n",
       "      <td>2</td>\n",
       "      <td>304</td>\n",
       "      <td>0.0</td>\n",
       "      <td>1</td>\n",
       "      <td>77</td>\n",
       "      <td>162</td>\n",
       "      <td>1</td>\n",
       "    </tr>\n",
       "    <tr>\n",
       "      <th>3</th>\n",
       "      <td>l2xjde</td>\n",
       "      <td>1</td>\n",
       "      <td>reversible_defect</td>\n",
       "      <td>152</td>\n",
       "      <td>4</td>\n",
       "      <td>0</td>\n",
       "      <td>0</td>\n",
       "      <td>0</td>\n",
       "      <td>223</td>\n",
       "      <td>0.0</td>\n",
       "      <td>1</td>\n",
       "      <td>40</td>\n",
       "      <td>181</td>\n",
       "      <td>0</td>\n",
       "    </tr>\n",
       "    <tr>\n",
       "      <th>4</th>\n",
       "      <td>oyt4ek</td>\n",
       "      <td>3</td>\n",
       "      <td>reversible_defect</td>\n",
       "      <td>178</td>\n",
       "      <td>1</td>\n",
       "      <td>0</td>\n",
       "      <td>0</td>\n",
       "      <td>2</td>\n",
       "      <td>270</td>\n",
       "      <td>4.2</td>\n",
       "      <td>1</td>\n",
       "      <td>59</td>\n",
       "      <td>145</td>\n",
       "      <td>0</td>\n",
       "    </tr>\n",
       "  </tbody>\n",
       "</table>\n",
       "</div>"
      ],
      "text/plain": [
       "  patient_id  slope_of_peak_exercise_st_segment               thal  \\\n",
       "0     0z64un                                  1             normal   \n",
       "1     ryoo3j                                  2             normal   \n",
       "2     yt1s1x                                  1             normal   \n",
       "3     l2xjde                                  1  reversible_defect   \n",
       "4     oyt4ek                                  3  reversible_defect   \n",
       "\n",
       "   resting_blood_pressure  chest_pain_type  num_major_vessels  \\\n",
       "0                     128                2                  0   \n",
       "1                     110                3                  0   \n",
       "2                     125                4                  3   \n",
       "3                     152                4                  0   \n",
       "4                     178                1                  0   \n",
       "\n",
       "   fasting_blood_sugar_gt_120_mg_per_dl  resting_ekg_results  \\\n",
       "0                                     0                    2   \n",
       "1                                     0                    0   \n",
       "2                                     0                    2   \n",
       "3                                     0                    0   \n",
       "4                                     0                    2   \n",
       "\n",
       "   serum_cholesterol_mg_per_dl  oldpeak_eq_st_depression  sex  age  \\\n",
       "0                          308                       0.0    1   45   \n",
       "1                          214                       1.6    0   54   \n",
       "2                          304                       0.0    1   77   \n",
       "3                          223                       0.0    1   40   \n",
       "4                          270                       4.2    1   59   \n",
       "\n",
       "   max_heart_rate_achieved  exercise_induced_angina  \n",
       "0                      170                        0  \n",
       "1                      158                        0  \n",
       "2                      162                        1  \n",
       "3                      181                        0  \n",
       "4                      145                        0  "
      ]
     },
     "execution_count": 3,
     "metadata": {},
     "output_type": "execute_result"
    }
   ],
   "source": [
    "print(train_values.shape)\n",
    "train_values.head()"
   ]
  },
  {
   "cell_type": "code",
   "execution_count": 4,
   "metadata": {},
   "outputs": [
    {
     "name": "stdout",
     "output_type": "stream",
     "text": [
      "(180, 2)\n"
     ]
    },
    {
     "data": {
      "text/html": [
       "<div>\n",
       "<style scoped>\n",
       "    .dataframe tbody tr th:only-of-type {\n",
       "        vertical-align: middle;\n",
       "    }\n",
       "\n",
       "    .dataframe tbody tr th {\n",
       "        vertical-align: top;\n",
       "    }\n",
       "\n",
       "    .dataframe thead th {\n",
       "        text-align: right;\n",
       "    }\n",
       "</style>\n",
       "<table border=\"1\" class=\"dataframe\">\n",
       "  <thead>\n",
       "    <tr style=\"text-align: right;\">\n",
       "      <th></th>\n",
       "      <th>patient_id</th>\n",
       "      <th>heart_disease_present</th>\n",
       "    </tr>\n",
       "  </thead>\n",
       "  <tbody>\n",
       "    <tr>\n",
       "      <th>0</th>\n",
       "      <td>0z64un</td>\n",
       "      <td>0</td>\n",
       "    </tr>\n",
       "    <tr>\n",
       "      <th>1</th>\n",
       "      <td>ryoo3j</td>\n",
       "      <td>0</td>\n",
       "    </tr>\n",
       "    <tr>\n",
       "      <th>2</th>\n",
       "      <td>yt1s1x</td>\n",
       "      <td>1</td>\n",
       "    </tr>\n",
       "    <tr>\n",
       "      <th>3</th>\n",
       "      <td>l2xjde</td>\n",
       "      <td>1</td>\n",
       "    </tr>\n",
       "    <tr>\n",
       "      <th>4</th>\n",
       "      <td>oyt4ek</td>\n",
       "      <td>0</td>\n",
       "    </tr>\n",
       "  </tbody>\n",
       "</table>\n",
       "</div>"
      ],
      "text/plain": [
       "  patient_id  heart_disease_present\n",
       "0     0z64un                      0\n",
       "1     ryoo3j                      0\n",
       "2     yt1s1x                      1\n",
       "3     l2xjde                      1\n",
       "4     oyt4ek                      0"
      ]
     },
     "execution_count": 4,
     "metadata": {},
     "output_type": "execute_result"
    }
   ],
   "source": [
    "print(train_labels.shape)\n",
    "train_labels.head()"
   ]
  },
  {
   "cell_type": "code",
   "execution_count": 5,
   "metadata": {},
   "outputs": [
    {
     "data": {
      "text/html": [
       "<div>\n",
       "<style scoped>\n",
       "    .dataframe tbody tr th:only-of-type {\n",
       "        vertical-align: middle;\n",
       "    }\n",
       "\n",
       "    .dataframe tbody tr th {\n",
       "        vertical-align: top;\n",
       "    }\n",
       "\n",
       "    .dataframe thead th {\n",
       "        text-align: right;\n",
       "    }\n",
       "</style>\n",
       "<table border=\"1\" class=\"dataframe\">\n",
       "  <thead>\n",
       "    <tr style=\"text-align: right;\">\n",
       "      <th></th>\n",
       "      <th>patient_id</th>\n",
       "      <th>slope_of_peak_exercise_st_segment</th>\n",
       "      <th>thal</th>\n",
       "      <th>resting_blood_pressure</th>\n",
       "      <th>chest_pain_type</th>\n",
       "      <th>num_major_vessels</th>\n",
       "      <th>fasting_blood_sugar_gt_120_mg_per_dl</th>\n",
       "      <th>resting_ekg_results</th>\n",
       "      <th>serum_cholesterol_mg_per_dl</th>\n",
       "      <th>oldpeak_eq_st_depression</th>\n",
       "      <th>sex</th>\n",
       "      <th>age</th>\n",
       "      <th>max_heart_rate_achieved</th>\n",
       "      <th>exercise_induced_angina</th>\n",
       "    </tr>\n",
       "  </thead>\n",
       "  <tbody>\n",
       "    <tr>\n",
       "      <th>0</th>\n",
       "      <td>0z64un</td>\n",
       "      <td>1</td>\n",
       "      <td>0</td>\n",
       "      <td>128</td>\n",
       "      <td>2</td>\n",
       "      <td>0</td>\n",
       "      <td>0</td>\n",
       "      <td>2</td>\n",
       "      <td>308</td>\n",
       "      <td>0.0</td>\n",
       "      <td>1</td>\n",
       "      <td>45</td>\n",
       "      <td>170</td>\n",
       "      <td>0</td>\n",
       "    </tr>\n",
       "    <tr>\n",
       "      <th>1</th>\n",
       "      <td>ryoo3j</td>\n",
       "      <td>2</td>\n",
       "      <td>0</td>\n",
       "      <td>110</td>\n",
       "      <td>3</td>\n",
       "      <td>0</td>\n",
       "      <td>0</td>\n",
       "      <td>0</td>\n",
       "      <td>214</td>\n",
       "      <td>1.6</td>\n",
       "      <td>0</td>\n",
       "      <td>54</td>\n",
       "      <td>158</td>\n",
       "      <td>0</td>\n",
       "    </tr>\n",
       "    <tr>\n",
       "      <th>2</th>\n",
       "      <td>yt1s1x</td>\n",
       "      <td>1</td>\n",
       "      <td>0</td>\n",
       "      <td>125</td>\n",
       "      <td>4</td>\n",
       "      <td>3</td>\n",
       "      <td>0</td>\n",
       "      <td>2</td>\n",
       "      <td>304</td>\n",
       "      <td>0.0</td>\n",
       "      <td>1</td>\n",
       "      <td>77</td>\n",
       "      <td>162</td>\n",
       "      <td>1</td>\n",
       "    </tr>\n",
       "    <tr>\n",
       "      <th>3</th>\n",
       "      <td>l2xjde</td>\n",
       "      <td>1</td>\n",
       "      <td>2</td>\n",
       "      <td>152</td>\n",
       "      <td>4</td>\n",
       "      <td>0</td>\n",
       "      <td>0</td>\n",
       "      <td>0</td>\n",
       "      <td>223</td>\n",
       "      <td>0.0</td>\n",
       "      <td>1</td>\n",
       "      <td>40</td>\n",
       "      <td>181</td>\n",
       "      <td>0</td>\n",
       "    </tr>\n",
       "    <tr>\n",
       "      <th>4</th>\n",
       "      <td>oyt4ek</td>\n",
       "      <td>3</td>\n",
       "      <td>2</td>\n",
       "      <td>178</td>\n",
       "      <td>1</td>\n",
       "      <td>0</td>\n",
       "      <td>0</td>\n",
       "      <td>2</td>\n",
       "      <td>270</td>\n",
       "      <td>4.2</td>\n",
       "      <td>1</td>\n",
       "      <td>59</td>\n",
       "      <td>145</td>\n",
       "      <td>0</td>\n",
       "    </tr>\n",
       "  </tbody>\n",
       "</table>\n",
       "</div>"
      ],
      "text/plain": [
       "  patient_id  slope_of_peak_exercise_st_segment  thal  resting_blood_pressure  \\\n",
       "0     0z64un                                  1     0                     128   \n",
       "1     ryoo3j                                  2     0                     110   \n",
       "2     yt1s1x                                  1     0                     125   \n",
       "3     l2xjde                                  1     2                     152   \n",
       "4     oyt4ek                                  3     2                     178   \n",
       "\n",
       "   chest_pain_type  num_major_vessels  fasting_blood_sugar_gt_120_mg_per_dl  \\\n",
       "0                2                  0                                     0   \n",
       "1                3                  0                                     0   \n",
       "2                4                  3                                     0   \n",
       "3                4                  0                                     0   \n",
       "4                1                  0                                     0   \n",
       "\n",
       "   resting_ekg_results  serum_cholesterol_mg_per_dl  oldpeak_eq_st_depression  \\\n",
       "0                    2                          308                       0.0   \n",
       "1                    0                          214                       1.6   \n",
       "2                    2                          304                       0.0   \n",
       "3                    0                          223                       0.0   \n",
       "4                    2                          270                       4.2   \n",
       "\n",
       "   sex  age  max_heart_rate_achieved  exercise_induced_angina  \n",
       "0    1   45                      170                        0  \n",
       "1    0   54                      158                        0  \n",
       "2    1   77                      162                        1  \n",
       "3    1   40                      181                        0  \n",
       "4    1   59                      145                        0  "
      ]
     },
     "execution_count": 5,
     "metadata": {},
     "output_type": "execute_result"
    }
   ],
   "source": [
    "# 將字串轉為int,不一定要加 .astype(int)  結果還是會是int64\n",
    "train_values['thal'] = train_values['thal'].map({'normal':0, 'fixed_defect':1, 'reversible_defect':2})\n",
    "train_values.head()\n",
    "# train_values.dtypes  看型態"
   ]
  },
  {
   "cell_type": "code",
   "execution_count": 6,
   "metadata": {},
   "outputs": [
    {
     "name": "stdout",
     "output_type": "stream",
     "text": [
      "<class 'pandas.core.frame.DataFrame'>\n",
      "RangeIndex: 180 entries, 0 to 179\n",
      "Data columns (total 14 columns):\n",
      "patient_id                              180 non-null object\n",
      "slope_of_peak_exercise_st_segment       180 non-null int64\n",
      "thal                                    180 non-null int64\n",
      "resting_blood_pressure                  180 non-null int64\n",
      "chest_pain_type                         180 non-null int64\n",
      "num_major_vessels                       180 non-null int64\n",
      "fasting_blood_sugar_gt_120_mg_per_dl    180 non-null int64\n",
      "resting_ekg_results                     180 non-null int64\n",
      "serum_cholesterol_mg_per_dl             180 non-null int64\n",
      "oldpeak_eq_st_depression                180 non-null float64\n",
      "sex                                     180 non-null int64\n",
      "age                                     180 non-null int64\n",
      "max_heart_rate_achieved                 180 non-null int64\n",
      "exercise_induced_angina                 180 non-null int64\n",
      "dtypes: float64(1), int64(12), object(1)\n",
      "memory usage: 19.8+ KB\n"
     ]
    }
   ],
   "source": [
    "# # 計算各欄位,可用info()取代\n",
    "# train_values.count()\n",
    "train_values.info()   # 看資料摘要資訊,共有180row,發現沒有空值"
   ]
  },
  {
   "cell_type": "code",
   "execution_count": 7,
   "metadata": {},
   "outputs": [
    {
     "data": {
      "text/html": [
       "<div>\n",
       "<style scoped>\n",
       "    .dataframe tbody tr th:only-of-type {\n",
       "        vertical-align: middle;\n",
       "    }\n",
       "\n",
       "    .dataframe tbody tr th {\n",
       "        vertical-align: top;\n",
       "    }\n",
       "\n",
       "    .dataframe thead th {\n",
       "        text-align: right;\n",
       "    }\n",
       "</style>\n",
       "<table border=\"1\" class=\"dataframe\">\n",
       "  <thead>\n",
       "    <tr style=\"text-align: right;\">\n",
       "      <th></th>\n",
       "      <th>slope_of_peak_exercise_st_segment</th>\n",
       "      <th>thal</th>\n",
       "      <th>resting_blood_pressure</th>\n",
       "      <th>chest_pain_type</th>\n",
       "      <th>num_major_vessels</th>\n",
       "      <th>fasting_blood_sugar_gt_120_mg_per_dl</th>\n",
       "      <th>resting_ekg_results</th>\n",
       "      <th>serum_cholesterol_mg_per_dl</th>\n",
       "      <th>oldpeak_eq_st_depression</th>\n",
       "      <th>sex</th>\n",
       "      <th>age</th>\n",
       "      <th>max_heart_rate_achieved</th>\n",
       "      <th>exercise_induced_angina</th>\n",
       "    </tr>\n",
       "  </thead>\n",
       "  <tbody>\n",
       "    <tr>\n",
       "      <th>count</th>\n",
       "      <td>180.000000</td>\n",
       "      <td>180.000000</td>\n",
       "      <td>180.000000</td>\n",
       "      <td>180.000000</td>\n",
       "      <td>180.000000</td>\n",
       "      <td>180.000000</td>\n",
       "      <td>180.000000</td>\n",
       "      <td>180.000000</td>\n",
       "      <td>180.000000</td>\n",
       "      <td>180.000000</td>\n",
       "      <td>180.000000</td>\n",
       "      <td>180.000000</td>\n",
       "      <td>180.000000</td>\n",
       "    </tr>\n",
       "    <tr>\n",
       "      <th>mean</th>\n",
       "      <td>1.550000</td>\n",
       "      <td>0.866667</td>\n",
       "      <td>131.311111</td>\n",
       "      <td>3.155556</td>\n",
       "      <td>0.694444</td>\n",
       "      <td>0.161111</td>\n",
       "      <td>1.050000</td>\n",
       "      <td>249.211111</td>\n",
       "      <td>1.010000</td>\n",
       "      <td>0.688889</td>\n",
       "      <td>54.811111</td>\n",
       "      <td>149.483333</td>\n",
       "      <td>0.316667</td>\n",
       "    </tr>\n",
       "    <tr>\n",
       "      <th>std</th>\n",
       "      <td>0.618838</td>\n",
       "      <td>0.971091</td>\n",
       "      <td>17.010443</td>\n",
       "      <td>0.938454</td>\n",
       "      <td>0.969347</td>\n",
       "      <td>0.368659</td>\n",
       "      <td>0.998742</td>\n",
       "      <td>52.717969</td>\n",
       "      <td>1.121357</td>\n",
       "      <td>0.464239</td>\n",
       "      <td>9.334737</td>\n",
       "      <td>22.063513</td>\n",
       "      <td>0.466474</td>\n",
       "    </tr>\n",
       "    <tr>\n",
       "      <th>min</th>\n",
       "      <td>1.000000</td>\n",
       "      <td>0.000000</td>\n",
       "      <td>94.000000</td>\n",
       "      <td>1.000000</td>\n",
       "      <td>0.000000</td>\n",
       "      <td>0.000000</td>\n",
       "      <td>0.000000</td>\n",
       "      <td>126.000000</td>\n",
       "      <td>0.000000</td>\n",
       "      <td>0.000000</td>\n",
       "      <td>29.000000</td>\n",
       "      <td>96.000000</td>\n",
       "      <td>0.000000</td>\n",
       "    </tr>\n",
       "    <tr>\n",
       "      <th>25%</th>\n",
       "      <td>1.000000</td>\n",
       "      <td>0.000000</td>\n",
       "      <td>120.000000</td>\n",
       "      <td>3.000000</td>\n",
       "      <td>0.000000</td>\n",
       "      <td>0.000000</td>\n",
       "      <td>0.000000</td>\n",
       "      <td>213.750000</td>\n",
       "      <td>0.000000</td>\n",
       "      <td>0.000000</td>\n",
       "      <td>48.000000</td>\n",
       "      <td>132.000000</td>\n",
       "      <td>0.000000</td>\n",
       "    </tr>\n",
       "    <tr>\n",
       "      <th>50%</th>\n",
       "      <td>1.000000</td>\n",
       "      <td>0.000000</td>\n",
       "      <td>130.000000</td>\n",
       "      <td>3.000000</td>\n",
       "      <td>0.000000</td>\n",
       "      <td>0.000000</td>\n",
       "      <td>2.000000</td>\n",
       "      <td>245.500000</td>\n",
       "      <td>0.800000</td>\n",
       "      <td>1.000000</td>\n",
       "      <td>55.000000</td>\n",
       "      <td>152.000000</td>\n",
       "      <td>0.000000</td>\n",
       "    </tr>\n",
       "    <tr>\n",
       "      <th>75%</th>\n",
       "      <td>2.000000</td>\n",
       "      <td>2.000000</td>\n",
       "      <td>140.000000</td>\n",
       "      <td>4.000000</td>\n",
       "      <td>1.000000</td>\n",
       "      <td>0.000000</td>\n",
       "      <td>2.000000</td>\n",
       "      <td>281.250000</td>\n",
       "      <td>1.600000</td>\n",
       "      <td>1.000000</td>\n",
       "      <td>62.000000</td>\n",
       "      <td>166.250000</td>\n",
       "      <td>1.000000</td>\n",
       "    </tr>\n",
       "    <tr>\n",
       "      <th>max</th>\n",
       "      <td>3.000000</td>\n",
       "      <td>2.000000</td>\n",
       "      <td>180.000000</td>\n",
       "      <td>4.000000</td>\n",
       "      <td>3.000000</td>\n",
       "      <td>1.000000</td>\n",
       "      <td>2.000000</td>\n",
       "      <td>564.000000</td>\n",
       "      <td>6.200000</td>\n",
       "      <td>1.000000</td>\n",
       "      <td>77.000000</td>\n",
       "      <td>202.000000</td>\n",
       "      <td>1.000000</td>\n",
       "    </tr>\n",
       "  </tbody>\n",
       "</table>\n",
       "</div>"
      ],
      "text/plain": [
       "       slope_of_peak_exercise_st_segment        thal  resting_blood_pressure  \\\n",
       "count                         180.000000  180.000000              180.000000   \n",
       "mean                            1.550000    0.866667              131.311111   \n",
       "std                             0.618838    0.971091               17.010443   \n",
       "min                             1.000000    0.000000               94.000000   \n",
       "25%                             1.000000    0.000000              120.000000   \n",
       "50%                             1.000000    0.000000              130.000000   \n",
       "75%                             2.000000    2.000000              140.000000   \n",
       "max                             3.000000    2.000000              180.000000   \n",
       "\n",
       "       chest_pain_type  num_major_vessels  \\\n",
       "count       180.000000         180.000000   \n",
       "mean          3.155556           0.694444   \n",
       "std           0.938454           0.969347   \n",
       "min           1.000000           0.000000   \n",
       "25%           3.000000           0.000000   \n",
       "50%           3.000000           0.000000   \n",
       "75%           4.000000           1.000000   \n",
       "max           4.000000           3.000000   \n",
       "\n",
       "       fasting_blood_sugar_gt_120_mg_per_dl  resting_ekg_results  \\\n",
       "count                            180.000000           180.000000   \n",
       "mean                               0.161111             1.050000   \n",
       "std                                0.368659             0.998742   \n",
       "min                                0.000000             0.000000   \n",
       "25%                                0.000000             0.000000   \n",
       "50%                                0.000000             2.000000   \n",
       "75%                                0.000000             2.000000   \n",
       "max                                1.000000             2.000000   \n",
       "\n",
       "       serum_cholesterol_mg_per_dl  oldpeak_eq_st_depression         sex  \\\n",
       "count                   180.000000                180.000000  180.000000   \n",
       "mean                    249.211111                  1.010000    0.688889   \n",
       "std                      52.717969                  1.121357    0.464239   \n",
       "min                     126.000000                  0.000000    0.000000   \n",
       "25%                     213.750000                  0.000000    0.000000   \n",
       "50%                     245.500000                  0.800000    1.000000   \n",
       "75%                     281.250000                  1.600000    1.000000   \n",
       "max                     564.000000                  6.200000    1.000000   \n",
       "\n",
       "              age  max_heart_rate_achieved  exercise_induced_angina  \n",
       "count  180.000000               180.000000               180.000000  \n",
       "mean    54.811111               149.483333                 0.316667  \n",
       "std      9.334737                22.063513                 0.466474  \n",
       "min     29.000000                96.000000                 0.000000  \n",
       "25%     48.000000               132.000000                 0.000000  \n",
       "50%     55.000000               152.000000                 0.000000  \n",
       "75%     62.000000               166.250000                 1.000000  \n",
       "max     77.000000               202.000000                 1.000000  "
      ]
     },
     "execution_count": 7,
     "metadata": {},
     "output_type": "execute_result"
    }
   ],
   "source": [
    "train_values.describe()  # 查詢統計資訊"
   ]
  },
  {
   "cell_type": "code",
   "execution_count": 8,
   "metadata": {},
   "outputs": [],
   "source": [
    "# 去除離群值\n"
   ]
  },
  {
   "cell_type": "code",
   "execution_count": 9,
   "metadata": {},
   "outputs": [],
   "source": [
    "# # Normalization(正規化)將資料縮放在0~1之間    相關係數沒有改變,為什麼還需要正規化?      \n",
    "# # 有網址也把Normalization叫(標準化)?  \n",
    "\n",
    "# # 相關係數沒有改變,為什麼還需要正規化?   參考(https://hk.saowen.com/a/ee8f4a328e55f10a3c97d2c8688d4fc79c3fd933e3d95bffed947ec8402cc1fe)\n",
    "# # 1. 提升模型的收斂速度\n",
    "# # 2. 提升模型的精度\n",
    "\n",
    "# # Standardization(標準化) \n",
    "\n",
    "# # 方式1 : 相關係數沒有變,都是0.079775\n",
    "# # train['serum_cholesterol_mg_per_dl'] = train['serum_cholesterol_mg_per_dl'] / train['serum_cholesterol_mg_per_dl'].max()\n",
    "# # train['serum_cholesterol_mg_per_dl'].head()\n",
    "\n",
    "# # 方式2 : 相關係數沒有變,都是0.079775,準確率也沒變  (浮點數值跟方法一不太一樣)\n",
    "# train_values['serum_cholesterol_mg_per_dl'] = (train_values['serum_cholesterol_mg_per_dl']-train_values['serum_cholesterol_mg_per_dl'].min())/(train_values['serum_cholesterol_mg_per_dl'].max()-train_values['serum_cholesterol_mg_per_dl'].min())\n",
    "# train_values['serum_cholesterol_mg_per_dl'].head()"
   ]
  },
  {
   "cell_type": "markdown",
   "metadata": {},
   "source": [
    "## 分析相關係數"
   ]
  },
  {
   "cell_type": "code",
   "execution_count": 10,
   "metadata": {},
   "outputs": [
    {
     "data": {
      "text/plain": [
       "heart_disease_present                   1.000000\n",
       "thal                                    0.538780\n",
       "exercise_induced_angina                 0.448647\n",
       "num_major_vessels                       0.421519\n",
       "chest_pain_type                         0.412829\n",
       "oldpeak_eq_st_depression                0.382930\n",
       "slope_of_peak_exercise_st_segment       0.344224\n",
       "sex                                     0.335421\n",
       "resting_ekg_results                     0.145933\n",
       "age                                     0.138255\n",
       "serum_cholesterol_mg_per_dl             0.079775\n",
       "resting_blood_pressure                  0.078506\n",
       "fasting_blood_sugar_gt_120_mg_per_dl    0.003379\n",
       "max_heart_rate_achieved                -0.375352\n",
       "Name: heart_disease_present, dtype: float64"
      ]
     },
     "execution_count": 10,
     "metadata": {},
     "output_type": "execute_result"
    }
   ],
   "source": [
    "# 因為要分析相關係數，所以將label併到feature\n",
    "# train_labels['heart_disease_present'] = sj_train_labels.total_cases\n",
    "train = pd.merge(train_values,train_labels,on='patient_id',how='inner')\n",
    "# 計算所有欄位跟label的相關係數，ascending=False 按照由高到低排序\n",
    "correlation = train.corr()\n",
    "correlation.loc['heart_disease_present'].sort_values(ascending=False)"
   ]
  },
  {
   "cell_type": "markdown",
   "metadata": {},
   "source": [
    "## 選擇要分析的欄位"
   ]
  },
  {
   "cell_type": "code",
   "execution_count": 11,
   "metadata": {},
   "outputs": [],
   "source": [
    "# 選相關係數0.4以上  # 0.38796759570602446\n",
    "values = train_values[[\"thal\",\"exercise_induced_angina\",\"num_major_vessels\",\"chest_pain_type\"]]\n",
    "\n",
    "# # 選相關係數前7名  # \n",
    "# values = train_values[[\"thal\",\"exercise_induced_angina\",\"num_major_vessels\",\"chest_pain_type\",\"oldpeak_eq_st_depression\",\"slope_of_peak_exercise_st_segment\",\"sex\"]]\n",
    "\n",
    "# # 選相關係數前3名  # 0.43115157413619165\n",
    "# values = train_values[[\"thal\",\"exercise_induced_angina\",\"num_major_vessels\"]]\n",
    "\n",
    "# # 選相關係數前5名  # 0.3296344134119075\n",
    "# values = train_values[[\"thal\",\"exercise_induced_angina\",\"num_major_vessels\",\"chest_pain_type\",\"oldpeak_eq_st_depression\"]]\n",
    "\n",
    "# # 選相關係數前6名  # 0.3042835536259936\n",
    "# values = train_values[[\"thal\",\"exercise_induced_angina\",\"num_major_vessels\",\"chest_pain_type\",\"oldpeak_eq_st_depression\",\"slope_of_peak_exercise_st_segment\"]]\n",
    "\n",
    "labels = train_labels[['heart_disease_present']]"
   ]
  },
  {
   "cell_type": "markdown",
   "metadata": {},
   "source": [
    "## 資料拆分(train、test)"
   ]
  },
  {
   "cell_type": "code",
   "execution_count": 12,
   "metadata": {},
   "outputs": [],
   "source": [
    "import numpy as np\n",
    "# 引入機器學習演算法\n",
    "from sklearn.neighbors import KNeighborsClassifier   # KNN\n",
    "from sklearn.linear_model import LogisticRegression\n",
    "from sklearn.svm import SVC   #支援向量機  \n",
    "from sklearn import tree  # 決策樹\n",
    "from sklearn.ensemble import RandomForestClassifier  # Random Forest\n",
    "\n",
    "# 引入切割資料的功能\n",
    "from sklearn.model_selection import train_test_split\n",
    "# 引入儲存model的功能\n",
    "from sklearn.externals import joblib\n",
    "\n",
    "# # 資料前處理\n",
    "# from sklearn.preprocessing import StandardScaler\n",
    "# # 降維\n",
    "# from sklearn.decomposition import PCA"
   ]
  },
  {
   "cell_type": "markdown",
   "metadata": {},
   "source": [
    "### 資料拆分(用迴圈找 log_loss 最低的亂數種子) + 使用SVM模型"
   ]
  },
  {
   "cell_type": "code",
   "execution_count": 13,
   "metadata": {},
   "outputs": [
    {
     "name": "stderr",
     "output_type": "stream",
     "text": [
      "C:\\ProgramData\\Anaconda3\\lib\\site-packages\\sklearn\\utils\\validation.py:578: DataConversionWarning: A column-vector y was passed when a 1d array was expected. Please change the shape of y to (n_samples, ), for example using ravel().\n",
      "  y = column_or_1d(y, warn=True)\n",
      "C:\\ProgramData\\Anaconda3\\lib\\site-packages\\sklearn\\svm\\base.py:218: ConvergenceWarning: Solver terminated early (max_iter=100).  Consider pre-processing your data with StandardScaler or MinMaxScaler.\n",
      "  % self.max_iter, ConvergenceWarning)\n"
     ]
    },
    {
     "name": "stdout",
     "output_type": "stream",
     "text": [
      "141 = 0.3192858800389178\n",
      "374 = 0.3245142287046441\n",
      "553 = 0.3198830085962688\n",
      "846 = 0.32693711103666995\n",
      "866 = 0.2990662337844862\n",
      "900 = 0.3015990338655621\n",
      "931 = 0.32010050510272087\n",
      "994 = 0.3125502889256508\n"
     ]
    }
   ],
   "source": [
    "from sklearn.metrics import log_loss\n",
    "for i in range(1,1000):\n",
    "  \n",
    "  # # 資料拆分  ## 記得 y=答案  test=驗證\n",
    "  # # 學習特徵, 驗證特徵, 學習答案, 驗證答案 = 資料切割(原始特徵,原始答案, 保留2成資料去驗證, 亂數種子)  \n",
    "  x_train, x_test, y_train, y_test = train_test_split(values, labels, test_size=0.2, random_state=i)\n",
    "  \n",
    "  # 支援向量機  \n",
    "  clf = SVC(C=1.0, cache_size=200, class_weight=None, coef0=0.0,\n",
    "    decision_function_shape='ovr', degree=3, gamma='auto', kernel='rbf',\n",
    "    max_iter=100, probability=True, random_state=7, shrinking=True,\n",
    "    tol=0.001, verbose=False)\n",
    "  clf.fit(x_train, y_train)  # 學習特徵, 學習答案\n",
    "\n",
    "  in_sample_preds = clf.predict_proba(x_train)\n",
    "  # log_loss(真實值，預測值)\n",
    "  if log_loss(y_train, in_sample_preds) < 0.33:\n",
    "    print(i,\"=\",log_loss(y_train, in_sample_preds))"
   ]
  },
  {
   "cell_type": "code",
   "execution_count": 14,
   "metadata": {},
   "outputs": [],
   "source": [
    "# 0.2 -> 0.38750475366970377   0.3 -> 0.3946748203027913    0.1 -> 0.39861886311772476\n",
    "# 資料拆分  ## 記得 y=答案  test=驗證\n",
    "# 學習特徵, 驗證特徵, 學習答案, 驗證答案 = 資料切割(原始特徵,原始答案, 保留2成資料去驗證, 亂數種子)\n",
    "# train_test_split 切割資料\n",
    "x_train, x_test, y_train, y_test = train_test_split(values, labels, test_size=0.2, random_state=374)"
   ]
  },
  {
   "cell_type": "markdown",
   "metadata": {},
   "source": [
    "## 選擇模型"
   ]
  },
  {
   "cell_type": "code",
   "execution_count": 15,
   "metadata": {},
   "outputs": [
    {
     "name": "stderr",
     "output_type": "stream",
     "text": [
      "C:\\ProgramData\\Anaconda3\\lib\\site-packages\\sklearn\\utils\\validation.py:578: DataConversionWarning: A column-vector y was passed when a 1d array was expected. Please change the shape of y to (n_samples, ), for example using ravel().\n",
      "  y = column_or_1d(y, warn=True)\n"
     ]
    },
    {
     "data": {
      "text/plain": [
       "SVC(C=1.0, cache_size=200, class_weight=None, coef0=0.0,\n",
       "  decision_function_shape='ovr', degree=3, gamma='auto', kernel='rbf',\n",
       "  max_iter=100, probability=True, random_state=7, shrinking=True,\n",
       "  tol=0.001, verbose=False)"
      ]
     },
     "execution_count": 15,
     "metadata": {},
     "output_type": "execute_result"
    }
   ],
   "source": [
    "# clf = LogisticRegression() # 0.4052582011162684\n",
    "# clf.fit(x_train, y_train)\n",
    "\n",
    "# # KNN     0.9755720534102053\n",
    "# clf = KNeighborsClassifier(n_neighbors=4)\n",
    "# clf.fit(x_train, y_train) \n",
    "\n",
    "# 支援向量機  0.38750475366970377\n",
    "clf = SVC(C=1.0, cache_size=200, class_weight=None, coef0=0.0,\n",
    "    decision_function_shape='ovr', degree=3, gamma='auto', kernel='rbf',\n",
    "    max_iter=100, probability=True, random_state=7, shrinking=True,\n",
    "    tol=0.001, verbose=False)\n",
    "clf.fit(x_train, y_train)  # 學習特徵, 學習答案\n",
    "\n",
    "# # 決策樹   0.25450144259133267  但提交上去的成績為2.80984,連低於1都還沒達到\n",
    "# clf = tree.DecisionTreeClassifier()\n",
    "# clf.fit(x_train, y_train) \n",
    "\n",
    "# # 隨機森林   0.43698443637204115\n",
    "# clf = RandomForestClassifier(max_depth=2, random_state=0)\n",
    "# clf.fit(x_train, y_train)  "
   ]
  },
  {
   "cell_type": "code",
   "execution_count": 18,
   "metadata": {},
   "outputs": [
    {
     "data": {
      "text/plain": [
       "0.6734755425407672"
      ]
     },
     "execution_count": 18,
     "metadata": {},
     "output_type": "execute_result"
    }
   ],
   "source": [
    "from sklearn.metrics import log_loss\n",
    "in_sample_preds = clf.predict_proba(x_test)\n",
    "# log_loss(真實值，預測值)\n",
    "log_loss(y_test, in_sample_preds)"
   ]
  },
  {
   "cell_type": "code",
   "execution_count": 19,
   "metadata": {},
   "outputs": [
    {
     "data": {
      "text/plain": [
       "array([1, 0, 0, 1, 0, 0, 0, 1, 0, 1, 1, 1, 1, 0, 0, 0, 1, 1, 0, 0, 0, 0,\n",
       "       0, 0, 0, 1, 0, 1, 1, 1, 1, 1, 1, 0, 0, 0], dtype=int64)"
      ]
     },
     "execution_count": 19,
     "metadata": {},
     "output_type": "execute_result"
    }
   ],
   "source": [
    "clf.predict(x_test)  # 單純預測0或1的結果"
   ]
  },
  {
   "cell_type": "code",
   "execution_count": 20,
   "metadata": {},
   "outputs": [
    {
     "data": {
      "text/plain": [
       "array([[0.12153958, 0.87846042],\n",
       "       [0.93876966, 0.06123034],\n",
       "       [0.93326977, 0.06673023],\n",
       "       [0.17726352, 0.82273648],\n",
       "       [0.93876966, 0.06123034],\n",
       "       [0.93326977, 0.06673023],\n",
       "       [0.85597596, 0.14402404],\n",
       "       [0.06661341, 0.93338659],\n",
       "       [0.83427987, 0.16572013],\n",
       "       [0.23711087, 0.76288913],\n",
       "       [0.05142661, 0.94857339],\n",
       "       [0.17726352, 0.82273648],\n",
       "       [0.07228042, 0.92771958],\n",
       "       [0.93876966, 0.06123034],\n",
       "       [0.83427987, 0.16572013],\n",
       "       [0.93326977, 0.06673023],\n",
       "       [0.13879135, 0.86120865],\n",
       "       [0.17726352, 0.82273648],\n",
       "       [0.58119341, 0.41880659],\n",
       "       [0.93876966, 0.06123034],\n",
       "       [0.85609001, 0.14390999],\n",
       "       [0.87170763, 0.12829237],\n",
       "       [0.93876966, 0.06123034],\n",
       "       [0.85597596, 0.14402404],\n",
       "       [0.85609001, 0.14390999],\n",
       "       [0.13879135, 0.86120865],\n",
       "       [0.93876966, 0.06123034],\n",
       "       [0.13865187, 0.86134813],\n",
       "       [0.06079157, 0.93920843],\n",
       "       [0.43561141, 0.56438859],\n",
       "       [0.13879135, 0.86120865],\n",
       "       [0.13865187, 0.86134813],\n",
       "       [0.13879135, 0.86120865],\n",
       "       [0.93876966, 0.06123034],\n",
       "       [0.85597607, 0.14402393],\n",
       "       [0.62056886, 0.37943114]])"
      ]
     },
     "execution_count": 20,
     "metadata": {},
     "output_type": "execute_result"
    }
   ],
   "source": [
    "# # 預測0或1的機率  array([[沒有心臟病, 有心臟病],[沒有心臟病, 有心臟病]....[沒有心臟病, 有心臟病]])\n",
    "clf.predict_proba(x_test)"
   ]
  },
  {
   "cell_type": "code",
   "execution_count": 21,
   "metadata": {},
   "outputs": [],
   "source": [
    "# # 儲存建立的機器模型\n",
    "# joblib.dump(svm, \"lr_model\",compress=9)"
   ]
  },
  {
   "cell_type": "markdown",
   "metadata": {},
   "source": [
    "## 預測test_values"
   ]
  },
  {
   "cell_type": "code",
   "execution_count": 22,
   "metadata": {},
   "outputs": [],
   "source": [
    "test_values = pd.read_csv(\"test_values.csv\")\n",
    "# test_values.shape\n",
    "# test_values.info()\n",
    "\n",
    "# 將字串轉為int,不一定要加 .astype(int)  結果還是會是int64\n",
    "test_values['thal'] = test_values['thal'].map({'normal':0, 'fixed_defect':1, 'reversible_defect':2})\n",
    "# 選擇要分析的欄位\n",
    "test = test_values[[\"thal\",\"exercise_induced_angina\",\"num_major_vessels\",\"chest_pain_type\"]]\n",
    "# clf.predict_proba()的值為[0.83031932, 0.16968068] --> [沒有心臟病, 有心臟病]  [:, 1](取有心臟病的機率)\n",
    "predictions = clf.predict_proba(test)[:, 1]"
   ]
  },
  {
   "cell_type": "markdown",
   "metadata": {},
   "source": [
    "## 寫法一"
   ]
  },
  {
   "cell_type": "code",
   "execution_count": 23,
   "metadata": {},
   "outputs": [],
   "source": [
    "#  讀取submission_format\n",
    "submission_format = pd.read_csv('submission_format.csv', index_col='patient_id')\n",
    "# 合併特徵和label\n",
    "output = pd.DataFrame(data=predictions,\n",
    "                             columns=submission_format.columns,\n",
    "                             index=submission_format.index)"
   ]
  },
  {
   "cell_type": "markdown",
   "metadata": {},
   "source": [
    "## 寫法二"
   ]
  },
  {
   "cell_type": "code",
   "execution_count": 26,
   "metadata": {},
   "outputs": [],
   "source": [
    "# #  讀取submission_format\n",
    "# submission_format = pd.read_csv(\"submission_format.csv\")\n",
    "# # 刪掉原本答案的欄位\n",
    "# submission_format = submission_format.drop(['heart_disease_present'], axis=1)\n",
    "# # 合併submission_format跟test_predictions\n",
    "# x = pd.DataFrame(data=predictions)\n",
    "# output = pd.concat([submission_format,x], axis=1)"
   ]
  },
  {
   "cell_type": "code",
   "execution_count": 27,
   "metadata": {},
   "outputs": [
    {
     "data": {
      "text/html": [
       "<div>\n",
       "<style scoped>\n",
       "    .dataframe tbody tr th:only-of-type {\n",
       "        vertical-align: middle;\n",
       "    }\n",
       "\n",
       "    .dataframe tbody tr th {\n",
       "        vertical-align: top;\n",
       "    }\n",
       "\n",
       "    .dataframe thead th {\n",
       "        text-align: right;\n",
       "    }\n",
       "</style>\n",
       "<table border=\"1\" class=\"dataframe\">\n",
       "  <thead>\n",
       "    <tr style=\"text-align: right;\">\n",
       "      <th></th>\n",
       "      <th>heart_disease_present</th>\n",
       "    </tr>\n",
       "    <tr>\n",
       "      <th>patient_id</th>\n",
       "      <th></th>\n",
       "    </tr>\n",
       "  </thead>\n",
       "  <tbody>\n",
       "    <tr>\n",
       "      <th>olalu7</th>\n",
       "      <td>0.143960</td>\n",
       "    </tr>\n",
       "    <tr>\n",
       "      <th>z9n6mx</th>\n",
       "      <td>0.144024</td>\n",
       "    </tr>\n",
       "    <tr>\n",
       "      <th>5k4413</th>\n",
       "      <td>0.861209</td>\n",
       "    </tr>\n",
       "    <tr>\n",
       "      <th>mrg7q5</th>\n",
       "      <td>0.144024</td>\n",
       "    </tr>\n",
       "    <tr>\n",
       "      <th>uki4do</th>\n",
       "      <td>0.718215</td>\n",
       "    </tr>\n",
       "  </tbody>\n",
       "</table>\n",
       "</div>"
      ],
      "text/plain": [
       "            heart_disease_present\n",
       "patient_id                       \n",
       "olalu7                   0.143960\n",
       "z9n6mx                   0.144024\n",
       "5k4413                   0.861209\n",
       "mrg7q5                   0.144024\n",
       "uki4do                   0.718215"
      ]
     },
     "execution_count": 27,
     "metadata": {},
     "output_type": "execute_result"
    }
   ],
   "source": [
    "output.head()"
   ]
  },
  {
   "cell_type": "code",
   "execution_count": 283,
   "metadata": {},
   "outputs": [],
   "source": [
    "# 輸出csv檔\n",
    "output.to_csv('output0812_6.csv')"
   ]
  },
  {
   "cell_type": "code",
   "execution_count": null,
   "metadata": {},
   "outputs": [],
   "source": []
  },
  {
   "cell_type": "code",
   "execution_count": null,
   "metadata": {},
   "outputs": [],
   "source": []
  },
  {
   "cell_type": "code",
   "execution_count": null,
   "metadata": {},
   "outputs": [],
   "source": []
  },
  {
   "cell_type": "code",
   "execution_count": null,
   "metadata": {},
   "outputs": [],
   "source": []
  },
  {
   "cell_type": "code",
   "execution_count": 122,
   "metadata": {},
   "outputs": [],
   "source": [
    "# # 將預測結果 numpy轉pandas  (1維度轉成2維度,才能合併)\n",
    "# #                               轉成2維度後的欄位名稱 : 預測的結果(1維度)\n",
    "# test_predictions = pd.DataFrame({\"heart_disease_present\": test_predictions})"
   ]
  }
 ],
 "metadata": {
  "kernelspec": {
   "display_name": "Python 3",
   "language": "python",
   "name": "python3"
  },
  "language_info": {
   "codemirror_mode": {
    "name": "ipython",
    "version": 3
   },
   "file_extension": ".py",
   "mimetype": "text/x-python",
   "name": "python",
   "nbconvert_exporter": "python",
   "pygments_lexer": "ipython3",
   "version": "3.6.5"
  }
 },
 "nbformat": 4,
 "nbformat_minor": 2
}
